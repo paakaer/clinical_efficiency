{
 "cells": [
  {
   "cell_type": "code",
   "execution_count": 1,
   "id": "47691c9a",
   "metadata": {},
   "outputs": [],
   "source": [
    "import pandas as pd\n",
    "df_treatments = pd.read_csv(\"treatments.csv\")\n",
    "df_appointments = pd.read_csv(\"appointments.csv\")"
   ]
  },
  {
   "cell_type": "code",
   "execution_count": 2,
   "id": "2299b965",
   "metadata": {},
   "outputs": [
    {
     "data": {
      "text/plain": [
       "((200, 6), (200, 7))"
      ]
     },
     "execution_count": 2,
     "metadata": {},
     "output_type": "execute_result"
    }
   ],
   "source": [
    "df_treatments.shape, df_appointments.shape"
   ]
  },
  {
   "cell_type": "markdown",
   "id": "10ab68f1",
   "metadata": {},
   "source": [
    "# FIRST HYPOTHESIS\n",
    "Doctors who initiate treatment faster (i.e., have a smaller gap between appointment_date and treatment_date) are more efficient and may contribute to better patient outcomes."
   ]
  },
  {
   "cell_type": "code",
   "execution_count": 3,
   "id": "0876bc11",
   "metadata": {},
   "outputs": [],
   "source": [
    "# create a new dataframe with the join of two dataframes on appointment_id\n",
    "df_joined = pd.merge(df_treatments, df_appointments, on='appointment_id', how='inner')"
   ]
  },
  {
   "cell_type": "code",
   "execution_count": 4,
   "id": "435e16bb",
   "metadata": {},
   "outputs": [
    {
     "data": {
      "application/vnd.microsoft.datawrangler.viewer.v0+json": {
       "columns": [
        {
         "name": "index",
         "rawType": "int64",
         "type": "integer"
        },
        {
         "name": "treatment_id",
         "rawType": "object",
         "type": "string"
        },
        {
         "name": "appointment_id",
         "rawType": "object",
         "type": "string"
        },
        {
         "name": "treatment_type",
         "rawType": "object",
         "type": "string"
        },
        {
         "name": "description",
         "rawType": "object",
         "type": "string"
        },
        {
         "name": "cost",
         "rawType": "float64",
         "type": "float"
        },
        {
         "name": "treatment_date",
         "rawType": "object",
         "type": "string"
        },
        {
         "name": "patient_id",
         "rawType": "object",
         "type": "string"
        },
        {
         "name": "doctor_id",
         "rawType": "object",
         "type": "string"
        },
        {
         "name": "appointment_date",
         "rawType": "object",
         "type": "string"
        },
        {
         "name": "appointment_time",
         "rawType": "object",
         "type": "string"
        },
        {
         "name": "reason_for_visit",
         "rawType": "object",
         "type": "string"
        },
        {
         "name": "status",
         "rawType": "object",
         "type": "string"
        }
       ],
       "ref": "ca848416-51ce-4c42-b877-61f138bbf211",
       "rows": [
        [
         "0",
         "T001",
         "A001",
         "Chemotherapy",
         "Basic screening",
         "3941.97",
         "2023-08-09",
         "P034",
         "D009",
         "2023-08-09",
         "15:15:00",
         "Therapy",
         "Scheduled"
        ],
        [
         "1",
         "T002",
         "A002",
         "MRI",
         "Advanced protocol",
         "4158.44",
         "2023-06-09",
         "P032",
         "D004",
         "2023-06-09",
         "14:30:00",
         "Therapy",
         "No-show"
        ],
        [
         "2",
         "T003",
         "A003",
         "MRI",
         "Standard procedure",
         "3731.55",
         "2023-06-28",
         "P048",
         "D004",
         "2023-06-28",
         "8:00:00",
         "Consultation",
         "Cancelled"
        ],
        [
         "3",
         "T004",
         "A004",
         "MRI",
         "Basic screening",
         "4799.86",
         "2023-09-01",
         "P025",
         "D006",
         "2023-09-01",
         "9:15:00",
         "Consultation",
         "Cancelled"
        ],
        [
         "4",
         "T005",
         "A005",
         "ECG",
         "Standard procedure",
         "582.05",
         "2023-07-06",
         "P040",
         "D003",
         "2023-07-06",
         "12:45:00",
         "Emergency",
         "No-show"
        ]
       ],
       "shape": {
        "columns": 12,
        "rows": 5
       }
      },
      "text/html": [
       "<div>\n",
       "<style scoped>\n",
       "    .dataframe tbody tr th:only-of-type {\n",
       "        vertical-align: middle;\n",
       "    }\n",
       "\n",
       "    .dataframe tbody tr th {\n",
       "        vertical-align: top;\n",
       "    }\n",
       "\n",
       "    .dataframe thead th {\n",
       "        text-align: right;\n",
       "    }\n",
       "</style>\n",
       "<table border=\"1\" class=\"dataframe\">\n",
       "  <thead>\n",
       "    <tr style=\"text-align: right;\">\n",
       "      <th></th>\n",
       "      <th>treatment_id</th>\n",
       "      <th>appointment_id</th>\n",
       "      <th>treatment_type</th>\n",
       "      <th>description</th>\n",
       "      <th>cost</th>\n",
       "      <th>treatment_date</th>\n",
       "      <th>patient_id</th>\n",
       "      <th>doctor_id</th>\n",
       "      <th>appointment_date</th>\n",
       "      <th>appointment_time</th>\n",
       "      <th>reason_for_visit</th>\n",
       "      <th>status</th>\n",
       "    </tr>\n",
       "  </thead>\n",
       "  <tbody>\n",
       "    <tr>\n",
       "      <th>0</th>\n",
       "      <td>T001</td>\n",
       "      <td>A001</td>\n",
       "      <td>Chemotherapy</td>\n",
       "      <td>Basic screening</td>\n",
       "      <td>3941.97</td>\n",
       "      <td>2023-08-09</td>\n",
       "      <td>P034</td>\n",
       "      <td>D009</td>\n",
       "      <td>2023-08-09</td>\n",
       "      <td>15:15:00</td>\n",
       "      <td>Therapy</td>\n",
       "      <td>Scheduled</td>\n",
       "    </tr>\n",
       "    <tr>\n",
       "      <th>1</th>\n",
       "      <td>T002</td>\n",
       "      <td>A002</td>\n",
       "      <td>MRI</td>\n",
       "      <td>Advanced protocol</td>\n",
       "      <td>4158.44</td>\n",
       "      <td>2023-06-09</td>\n",
       "      <td>P032</td>\n",
       "      <td>D004</td>\n",
       "      <td>2023-06-09</td>\n",
       "      <td>14:30:00</td>\n",
       "      <td>Therapy</td>\n",
       "      <td>No-show</td>\n",
       "    </tr>\n",
       "    <tr>\n",
       "      <th>2</th>\n",
       "      <td>T003</td>\n",
       "      <td>A003</td>\n",
       "      <td>MRI</td>\n",
       "      <td>Standard procedure</td>\n",
       "      <td>3731.55</td>\n",
       "      <td>2023-06-28</td>\n",
       "      <td>P048</td>\n",
       "      <td>D004</td>\n",
       "      <td>2023-06-28</td>\n",
       "      <td>8:00:00</td>\n",
       "      <td>Consultation</td>\n",
       "      <td>Cancelled</td>\n",
       "    </tr>\n",
       "    <tr>\n",
       "      <th>3</th>\n",
       "      <td>T004</td>\n",
       "      <td>A004</td>\n",
       "      <td>MRI</td>\n",
       "      <td>Basic screening</td>\n",
       "      <td>4799.86</td>\n",
       "      <td>2023-09-01</td>\n",
       "      <td>P025</td>\n",
       "      <td>D006</td>\n",
       "      <td>2023-09-01</td>\n",
       "      <td>9:15:00</td>\n",
       "      <td>Consultation</td>\n",
       "      <td>Cancelled</td>\n",
       "    </tr>\n",
       "    <tr>\n",
       "      <th>4</th>\n",
       "      <td>T005</td>\n",
       "      <td>A005</td>\n",
       "      <td>ECG</td>\n",
       "      <td>Standard procedure</td>\n",
       "      <td>582.05</td>\n",
       "      <td>2023-07-06</td>\n",
       "      <td>P040</td>\n",
       "      <td>D003</td>\n",
       "      <td>2023-07-06</td>\n",
       "      <td>12:45:00</td>\n",
       "      <td>Emergency</td>\n",
       "      <td>No-show</td>\n",
       "    </tr>\n",
       "  </tbody>\n",
       "</table>\n",
       "</div>"
      ],
      "text/plain": [
       "  treatment_id appointment_id treatment_type         description     cost  \\\n",
       "0         T001           A001   Chemotherapy     Basic screening  3941.97   \n",
       "1         T002           A002            MRI   Advanced protocol  4158.44   \n",
       "2         T003           A003            MRI  Standard procedure  3731.55   \n",
       "3         T004           A004            MRI     Basic screening  4799.86   \n",
       "4         T005           A005            ECG  Standard procedure   582.05   \n",
       "\n",
       "  treatment_date patient_id doctor_id appointment_date appointment_time  \\\n",
       "0     2023-08-09       P034      D009       2023-08-09         15:15:00   \n",
       "1     2023-06-09       P032      D004       2023-06-09         14:30:00   \n",
       "2     2023-06-28       P048      D004       2023-06-28          8:00:00   \n",
       "3     2023-09-01       P025      D006       2023-09-01          9:15:00   \n",
       "4     2023-07-06       P040      D003       2023-07-06         12:45:00   \n",
       "\n",
       "  reason_for_visit     status  \n",
       "0          Therapy  Scheduled  \n",
       "1          Therapy    No-show  \n",
       "2     Consultation  Cancelled  \n",
       "3     Consultation  Cancelled  \n",
       "4        Emergency    No-show  "
      ]
     },
     "execution_count": 4,
     "metadata": {},
     "output_type": "execute_result"
    }
   ],
   "source": [
    "df_joined.head()"
   ]
  },
  {
   "cell_type": "code",
   "execution_count": 5,
   "id": "ae0d0a57",
   "metadata": {},
   "outputs": [
    {
     "data": {
      "application/vnd.microsoft.datawrangler.viewer.v0+json": {
       "columns": [
        {
         "name": "index",
         "rawType": "int64",
         "type": "integer"
        },
        {
         "name": "treatment_id",
         "rawType": "object",
         "type": "string"
        },
        {
         "name": "appointment_id",
         "rawType": "object",
         "type": "string"
        },
        {
         "name": "treatment_type",
         "rawType": "object",
         "type": "string"
        },
        {
         "name": "description",
         "rawType": "object",
         "type": "string"
        },
        {
         "name": "cost",
         "rawType": "float64",
         "type": "float"
        },
        {
         "name": "treatment_date",
         "rawType": "datetime64[ns]",
         "type": "datetime"
        },
        {
         "name": "patient_id",
         "rawType": "object",
         "type": "string"
        },
        {
         "name": "doctor_id",
         "rawType": "object",
         "type": "string"
        },
        {
         "name": "appointment_date",
         "rawType": "datetime64[ns]",
         "type": "datetime"
        },
        {
         "name": "appointment_time",
         "rawType": "object",
         "type": "string"
        },
        {
         "name": "reason_for_visit",
         "rawType": "object",
         "type": "string"
        },
        {
         "name": "status",
         "rawType": "object",
         "type": "string"
        },
        {
         "name": "Time-to-Treat",
         "rawType": "int64",
         "type": "integer"
        }
       ],
       "ref": "3f0deb31-1090-4d40-886e-fe990bd94737",
       "rows": [
        [
         "0",
         "T001",
         "A001",
         "Chemotherapy",
         "Basic screening",
         "3941.97",
         "2023-08-09 00:00:00",
         "P034",
         "D009",
         "2023-08-09 00:00:00",
         "15:15:00",
         "Therapy",
         "Scheduled",
         "0"
        ],
        [
         "1",
         "T002",
         "A002",
         "MRI",
         "Advanced protocol",
         "4158.44",
         "2023-06-09 00:00:00",
         "P032",
         "D004",
         "2023-06-09 00:00:00",
         "14:30:00",
         "Therapy",
         "No-show",
         "0"
        ],
        [
         "2",
         "T003",
         "A003",
         "MRI",
         "Standard procedure",
         "3731.55",
         "2023-06-28 00:00:00",
         "P048",
         "D004",
         "2023-06-28 00:00:00",
         "8:00:00",
         "Consultation",
         "Cancelled",
         "0"
        ],
        [
         "3",
         "T004",
         "A004",
         "MRI",
         "Basic screening",
         "4799.86",
         "2023-09-01 00:00:00",
         "P025",
         "D006",
         "2023-09-01 00:00:00",
         "9:15:00",
         "Consultation",
         "Cancelled",
         "0"
        ],
        [
         "4",
         "T005",
         "A005",
         "ECG",
         "Standard procedure",
         "582.05",
         "2023-07-06 00:00:00",
         "P040",
         "D003",
         "2023-07-06 00:00:00",
         "12:45:00",
         "Emergency",
         "No-show",
         "0"
        ]
       ],
       "shape": {
        "columns": 13,
        "rows": 5
       }
      },
      "text/html": [
       "<div>\n",
       "<style scoped>\n",
       "    .dataframe tbody tr th:only-of-type {\n",
       "        vertical-align: middle;\n",
       "    }\n",
       "\n",
       "    .dataframe tbody tr th {\n",
       "        vertical-align: top;\n",
       "    }\n",
       "\n",
       "    .dataframe thead th {\n",
       "        text-align: right;\n",
       "    }\n",
       "</style>\n",
       "<table border=\"1\" class=\"dataframe\">\n",
       "  <thead>\n",
       "    <tr style=\"text-align: right;\">\n",
       "      <th></th>\n",
       "      <th>treatment_id</th>\n",
       "      <th>appointment_id</th>\n",
       "      <th>treatment_type</th>\n",
       "      <th>description</th>\n",
       "      <th>cost</th>\n",
       "      <th>treatment_date</th>\n",
       "      <th>patient_id</th>\n",
       "      <th>doctor_id</th>\n",
       "      <th>appointment_date</th>\n",
       "      <th>appointment_time</th>\n",
       "      <th>reason_for_visit</th>\n",
       "      <th>status</th>\n",
       "      <th>Time-to-Treat</th>\n",
       "    </tr>\n",
       "  </thead>\n",
       "  <tbody>\n",
       "    <tr>\n",
       "      <th>0</th>\n",
       "      <td>T001</td>\n",
       "      <td>A001</td>\n",
       "      <td>Chemotherapy</td>\n",
       "      <td>Basic screening</td>\n",
       "      <td>3941.97</td>\n",
       "      <td>2023-08-09</td>\n",
       "      <td>P034</td>\n",
       "      <td>D009</td>\n",
       "      <td>2023-08-09</td>\n",
       "      <td>15:15:00</td>\n",
       "      <td>Therapy</td>\n",
       "      <td>Scheduled</td>\n",
       "      <td>0</td>\n",
       "    </tr>\n",
       "    <tr>\n",
       "      <th>1</th>\n",
       "      <td>T002</td>\n",
       "      <td>A002</td>\n",
       "      <td>MRI</td>\n",
       "      <td>Advanced protocol</td>\n",
       "      <td>4158.44</td>\n",
       "      <td>2023-06-09</td>\n",
       "      <td>P032</td>\n",
       "      <td>D004</td>\n",
       "      <td>2023-06-09</td>\n",
       "      <td>14:30:00</td>\n",
       "      <td>Therapy</td>\n",
       "      <td>No-show</td>\n",
       "      <td>0</td>\n",
       "    </tr>\n",
       "    <tr>\n",
       "      <th>2</th>\n",
       "      <td>T003</td>\n",
       "      <td>A003</td>\n",
       "      <td>MRI</td>\n",
       "      <td>Standard procedure</td>\n",
       "      <td>3731.55</td>\n",
       "      <td>2023-06-28</td>\n",
       "      <td>P048</td>\n",
       "      <td>D004</td>\n",
       "      <td>2023-06-28</td>\n",
       "      <td>8:00:00</td>\n",
       "      <td>Consultation</td>\n",
       "      <td>Cancelled</td>\n",
       "      <td>0</td>\n",
       "    </tr>\n",
       "    <tr>\n",
       "      <th>3</th>\n",
       "      <td>T004</td>\n",
       "      <td>A004</td>\n",
       "      <td>MRI</td>\n",
       "      <td>Basic screening</td>\n",
       "      <td>4799.86</td>\n",
       "      <td>2023-09-01</td>\n",
       "      <td>P025</td>\n",
       "      <td>D006</td>\n",
       "      <td>2023-09-01</td>\n",
       "      <td>9:15:00</td>\n",
       "      <td>Consultation</td>\n",
       "      <td>Cancelled</td>\n",
       "      <td>0</td>\n",
       "    </tr>\n",
       "    <tr>\n",
       "      <th>4</th>\n",
       "      <td>T005</td>\n",
       "      <td>A005</td>\n",
       "      <td>ECG</td>\n",
       "      <td>Standard procedure</td>\n",
       "      <td>582.05</td>\n",
       "      <td>2023-07-06</td>\n",
       "      <td>P040</td>\n",
       "      <td>D003</td>\n",
       "      <td>2023-07-06</td>\n",
       "      <td>12:45:00</td>\n",
       "      <td>Emergency</td>\n",
       "      <td>No-show</td>\n",
       "      <td>0</td>\n",
       "    </tr>\n",
       "  </tbody>\n",
       "</table>\n",
       "</div>"
      ],
      "text/plain": [
       "  treatment_id appointment_id treatment_type         description     cost  \\\n",
       "0         T001           A001   Chemotherapy     Basic screening  3941.97   \n",
       "1         T002           A002            MRI   Advanced protocol  4158.44   \n",
       "2         T003           A003            MRI  Standard procedure  3731.55   \n",
       "3         T004           A004            MRI     Basic screening  4799.86   \n",
       "4         T005           A005            ECG  Standard procedure   582.05   \n",
       "\n",
       "  treatment_date patient_id doctor_id appointment_date appointment_time  \\\n",
       "0     2023-08-09       P034      D009       2023-08-09         15:15:00   \n",
       "1     2023-06-09       P032      D004       2023-06-09         14:30:00   \n",
       "2     2023-06-28       P048      D004       2023-06-28          8:00:00   \n",
       "3     2023-09-01       P025      D006       2023-09-01          9:15:00   \n",
       "4     2023-07-06       P040      D003       2023-07-06         12:45:00   \n",
       "\n",
       "  reason_for_visit     status  Time-to-Treat  \n",
       "0          Therapy  Scheduled              0  \n",
       "1          Therapy    No-show              0  \n",
       "2     Consultation  Cancelled              0  \n",
       "3     Consultation  Cancelled              0  \n",
       "4        Emergency    No-show              0  "
      ]
     },
     "execution_count": 5,
     "metadata": {},
     "output_type": "execute_result"
    }
   ],
   "source": [
    "# CALCULATE the time difference between \"treatment_date\" and \"appointment_date\" for every single treatment. Let's call this new metric \"Time-to-Treat\"\n",
    "df_joined[\"treatment_date\"] = pd.to_datetime(df_joined[\"treatment_date\"])\n",
    "df_joined[\"appointment_date\"] = pd.to_datetime(df_joined[\"appointment_date\"])\n",
    "df_joined[\"Time-to-Treat\"] = (df_joined[\"treatment_date\"] - df_joined[\"appointment_date\"]).dt.days\n",
    "# Display the first few rows of the updated dataframe\n",
    "df_joined.head()"
   ]
  },
  {
   "cell_type": "code",
   "execution_count": 6,
   "id": "26c81614",
   "metadata": {},
   "outputs": [
    {
     "data": {
      "application/vnd.microsoft.datawrangler.viewer.v0+json": {
       "columns": [
        {
         "name": "index",
         "rawType": "int64",
         "type": "integer"
        },
        {
         "name": "treatment_id",
         "rawType": "object",
         "type": "string"
        },
        {
         "name": "appointment_id",
         "rawType": "object",
         "type": "string"
        },
        {
         "name": "treatment_type",
         "rawType": "object",
         "type": "string"
        },
        {
         "name": "description",
         "rawType": "object",
         "type": "string"
        },
        {
         "name": "cost",
         "rawType": "float64",
         "type": "float"
        },
        {
         "name": "treatment_date",
         "rawType": "datetime64[ns]",
         "type": "datetime"
        },
        {
         "name": "patient_id",
         "rawType": "object",
         "type": "string"
        },
        {
         "name": "doctor_id",
         "rawType": "object",
         "type": "string"
        },
        {
         "name": "appointment_date",
         "rawType": "datetime64[ns]",
         "type": "datetime"
        },
        {
         "name": "appointment_time",
         "rawType": "object",
         "type": "string"
        },
        {
         "name": "reason_for_visit",
         "rawType": "object",
         "type": "string"
        },
        {
         "name": "status",
         "rawType": "object",
         "type": "string"
        },
        {
         "name": "Time-to-Treat",
         "rawType": "int64",
         "type": "integer"
        }
       ],
       "ref": "486a367c-2086-4df8-96b0-4670dc0d7899",
       "rows": [],
       "shape": {
        "columns": 13,
        "rows": 0
       }
      },
      "text/html": [
       "<div>\n",
       "<style scoped>\n",
       "    .dataframe tbody tr th:only-of-type {\n",
       "        vertical-align: middle;\n",
       "    }\n",
       "\n",
       "    .dataframe tbody tr th {\n",
       "        vertical-align: top;\n",
       "    }\n",
       "\n",
       "    .dataframe thead th {\n",
       "        text-align: right;\n",
       "    }\n",
       "</style>\n",
       "<table border=\"1\" class=\"dataframe\">\n",
       "  <thead>\n",
       "    <tr style=\"text-align: right;\">\n",
       "      <th></th>\n",
       "      <th>treatment_id</th>\n",
       "      <th>appointment_id</th>\n",
       "      <th>treatment_type</th>\n",
       "      <th>description</th>\n",
       "      <th>cost</th>\n",
       "      <th>treatment_date</th>\n",
       "      <th>patient_id</th>\n",
       "      <th>doctor_id</th>\n",
       "      <th>appointment_date</th>\n",
       "      <th>appointment_time</th>\n",
       "      <th>reason_for_visit</th>\n",
       "      <th>status</th>\n",
       "      <th>Time-to-Treat</th>\n",
       "    </tr>\n",
       "  </thead>\n",
       "  <tbody>\n",
       "  </tbody>\n",
       "</table>\n",
       "</div>"
      ],
      "text/plain": [
       "Empty DataFrame\n",
       "Columns: [treatment_id, appointment_id, treatment_type, description, cost, treatment_date, patient_id, doctor_id, appointment_date, appointment_time, reason_for_visit, status, Time-to-Treat]\n",
       "Index: []"
      ]
     },
     "execution_count": 6,
     "metadata": {},
     "output_type": "execute_result"
    }
   ],
   "source": [
    "#show rows where Time-to-Treat is greater than 0 days\n",
    "df_joined[df_joined[\"Time-to-Treat\"] > 0].head()"
   ]
  },
  {
   "cell_type": "code",
   "execution_count": 7,
   "id": "e6830bd3",
   "metadata": {},
   "outputs": [
    {
     "data": {
      "application/vnd.microsoft.datawrangler.viewer.v0+json": {
       "columns": [
        {
         "name": "index",
         "rawType": "int64",
         "type": "integer"
        },
        {
         "name": "doctor_id",
         "rawType": "object",
         "type": "string"
        },
        {
         "name": "avg_time_to_treat",
         "rawType": "float64",
         "type": "float"
        }
       ],
       "ref": "642c9307-cf6d-4e5d-ac84-a31d65f37b3a",
       "rows": [
        [
         "0",
         "D001",
         "0.0"
        ],
        [
         "1",
         "D002",
         "0.0"
        ],
        [
         "2",
         "D003",
         "0.0"
        ],
        [
         "3",
         "D004",
         "0.0"
        ],
        [
         "4",
         "D005",
         "0.0"
        ]
       ],
       "shape": {
        "columns": 2,
        "rows": 5
       }
      },
      "text/html": [
       "<div>\n",
       "<style scoped>\n",
       "    .dataframe tbody tr th:only-of-type {\n",
       "        vertical-align: middle;\n",
       "    }\n",
       "\n",
       "    .dataframe tbody tr th {\n",
       "        vertical-align: top;\n",
       "    }\n",
       "\n",
       "    .dataframe thead th {\n",
       "        text-align: right;\n",
       "    }\n",
       "</style>\n",
       "<table border=\"1\" class=\"dataframe\">\n",
       "  <thead>\n",
       "    <tr style=\"text-align: right;\">\n",
       "      <th></th>\n",
       "      <th>doctor_id</th>\n",
       "      <th>avg_time_to_treat</th>\n",
       "    </tr>\n",
       "  </thead>\n",
       "  <tbody>\n",
       "    <tr>\n",
       "      <th>0</th>\n",
       "      <td>D001</td>\n",
       "      <td>0.0</td>\n",
       "    </tr>\n",
       "    <tr>\n",
       "      <th>1</th>\n",
       "      <td>D002</td>\n",
       "      <td>0.0</td>\n",
       "    </tr>\n",
       "    <tr>\n",
       "      <th>2</th>\n",
       "      <td>D003</td>\n",
       "      <td>0.0</td>\n",
       "    </tr>\n",
       "    <tr>\n",
       "      <th>3</th>\n",
       "      <td>D004</td>\n",
       "      <td>0.0</td>\n",
       "    </tr>\n",
       "    <tr>\n",
       "      <th>4</th>\n",
       "      <td>D005</td>\n",
       "      <td>0.0</td>\n",
       "    </tr>\n",
       "  </tbody>\n",
       "</table>\n",
       "</div>"
      ],
      "text/plain": [
       "  doctor_id  avg_time_to_treat\n",
       "0      D001                0.0\n",
       "1      D002                0.0\n",
       "2      D003                0.0\n",
       "3      D004                0.0\n",
       "4      D005                0.0"
      ]
     },
     "execution_count": 7,
     "metadata": {},
     "output_type": "execute_result"
    }
   ],
   "source": [
    "# AGGREGATE the data to get the average \"Time-to-Treat\" for each doctor.\n",
    "df_avg_time_to_treat = df_joined.groupby(\"doctor_id\")[\"Time-to-Treat\"].mean().reset_index()\n",
    "df_avg_time_to_treat.columns = [\"doctor_id\", \"avg_time_to_treat\"]\n",
    "# Display the average time to treat for each doctor\n",
    "df_avg_time_to_treat.head()"
   ]
  },
  {
   "cell_type": "markdown",
   "id": "bd5bcc07",
   "metadata": {},
   "source": [
    "# SECOND HYPOTHESIS\n",
    "A doctor's efficiency is directly related to their patient throughput, meaning doctors who successfully manage more appointments (e.g., status = \"Completed\") in a month are higher performers."
   ]
  },
  {
   "cell_type": "code",
   "execution_count": 8,
   "id": "bb596ed5",
   "metadata": {},
   "outputs": [
    {
     "data": {
      "application/vnd.microsoft.datawrangler.viewer.v0+json": {
       "columns": [
        {
         "name": "index",
         "rawType": "int64",
         "type": "integer"
        },
        {
         "name": "doctor_id",
         "rawType": "object",
         "type": "string"
        },
        {
         "name": "completed_count",
         "rawType": "int64",
         "type": "integer"
        }
       ],
       "ref": "7bae76c9-81d7-4162-a997-0cb3f025c378",
       "rows": [
        [
         "0",
         "D001",
         "6"
        ],
        [
         "1",
         "D002",
         "5"
        ],
        [
         "2",
         "D003",
         "6"
        ],
        [
         "3",
         "D004",
         "3"
        ],
        [
         "4",
         "D005",
         "4"
        ]
       ],
       "shape": {
        "columns": 2,
        "rows": 5
       }
      },
      "text/html": [
       "<div>\n",
       "<style scoped>\n",
       "    .dataframe tbody tr th:only-of-type {\n",
       "        vertical-align: middle;\n",
       "    }\n",
       "\n",
       "    .dataframe tbody tr th {\n",
       "        vertical-align: top;\n",
       "    }\n",
       "\n",
       "    .dataframe thead th {\n",
       "        text-align: right;\n",
       "    }\n",
       "</style>\n",
       "<table border=\"1\" class=\"dataframe\">\n",
       "  <thead>\n",
       "    <tr style=\"text-align: right;\">\n",
       "      <th></th>\n",
       "      <th>doctor_id</th>\n",
       "      <th>completed_count</th>\n",
       "    </tr>\n",
       "  </thead>\n",
       "  <tbody>\n",
       "    <tr>\n",
       "      <th>0</th>\n",
       "      <td>D001</td>\n",
       "      <td>6</td>\n",
       "    </tr>\n",
       "    <tr>\n",
       "      <th>1</th>\n",
       "      <td>D002</td>\n",
       "      <td>5</td>\n",
       "    </tr>\n",
       "    <tr>\n",
       "      <th>2</th>\n",
       "      <td>D003</td>\n",
       "      <td>6</td>\n",
       "    </tr>\n",
       "    <tr>\n",
       "      <th>3</th>\n",
       "      <td>D004</td>\n",
       "      <td>3</td>\n",
       "    </tr>\n",
       "    <tr>\n",
       "      <th>4</th>\n",
       "      <td>D005</td>\n",
       "      <td>4</td>\n",
       "    </tr>\n",
       "  </tbody>\n",
       "</table>\n",
       "</div>"
      ],
      "text/plain": [
       "  doctor_id  completed_count\n",
       "0      D001                6\n",
       "1      D002                5\n",
       "2      D003                6\n",
       "3      D004                3\n",
       "4      D005                4"
      ]
     },
     "execution_count": 8,
     "metadata": {},
     "output_type": "execute_result"
    }
   ],
   "source": [
    "# in df_appointments filter out the rows where status is \"completed\" and group by doctor_id\n",
    "df_completed_appointments = df_appointments[df_appointments[\"status\"] == \"Completed\"].groupby(\"doctor_id\").size().reset_index(name='completed_count')\n",
    "df_completed_appointments.head()"
   ]
  },
  {
   "cell_type": "code",
   "execution_count": null,
   "id": "e03bc74a",
   "metadata": {},
   "outputs": [
    {
     "data": {
      "application/vnd.microsoft.datawrangler.viewer.v0+json": {
       "columns": [
        {
         "name": "index",
         "rawType": "int64",
         "type": "integer"
        },
        {
         "name": "doctor_id",
         "rawType": "object",
         "type": "string"
        },
        {
         "name": "avg_completed_per_month",
         "rawType": "float64",
         "type": "float"
        }
       ],
       "ref": "de8ea907-e038-44c9-b93b-e4f4781d88d7",
       "rows": [
        [
         "0",
         "D001",
         "1.2"
        ],
        [
         "1",
         "D002",
         "1.0"
        ],
        [
         "2",
         "D003",
         "1.2"
        ],
        [
         "3",
         "D004",
         "1.0"
        ],
        [
         "4",
         "D005",
         "1.0"
        ]
       ],
       "shape": {
        "columns": 2,
        "rows": 5
       }
      },
      "text/html": [
       "<div>\n",
       "<style scoped>\n",
       "    .dataframe tbody tr th:only-of-type {\n",
       "        vertical-align: middle;\n",
       "    }\n",
       "\n",
       "    .dataframe tbody tr th {\n",
       "        vertical-align: top;\n",
       "    }\n",
       "\n",
       "    .dataframe thead th {\n",
       "        text-align: right;\n",
       "    }\n",
       "</style>\n",
       "<table border=\"1\" class=\"dataframe\">\n",
       "  <thead>\n",
       "    <tr style=\"text-align: right;\">\n",
       "      <th></th>\n",
       "      <th>doctor_id</th>\n",
       "      <th>avg_completed_per_month</th>\n",
       "    </tr>\n",
       "  </thead>\n",
       "  <tbody>\n",
       "    <tr>\n",
       "      <th>0</th>\n",
       "      <td>D001</td>\n",
       "      <td>1.2</td>\n",
       "    </tr>\n",
       "    <tr>\n",
       "      <th>1</th>\n",
       "      <td>D002</td>\n",
       "      <td>1.0</td>\n",
       "    </tr>\n",
       "    <tr>\n",
       "      <th>2</th>\n",
       "      <td>D003</td>\n",
       "      <td>1.2</td>\n",
       "    </tr>\n",
       "    <tr>\n",
       "      <th>3</th>\n",
       "      <td>D004</td>\n",
       "      <td>1.0</td>\n",
       "    </tr>\n",
       "    <tr>\n",
       "      <th>4</th>\n",
       "      <td>D005</td>\n",
       "      <td>1.0</td>\n",
       "    </tr>\n",
       "  </tbody>\n",
       "</table>\n",
       "</div>"
      ],
      "text/plain": [
       "  doctor_id  avg_completed_per_month\n",
       "0      D001                      1.2\n",
       "1      D002                      1.0\n",
       "2      D003                      1.2\n",
       "3      D004                      1.0\n",
       "4      D005                      1.0"
      ]
     },
     "execution_count": 9,
     "metadata": {},
     "output_type": "execute_result"
    }
   ],
   "source": [
    "#calculathe average completed appointments per month for each doctor\n",
    "df_appointments[\"appointment_date\"] = pd.to_datetime(df_appointments[\"appointment_date\"])\n",
    "df_appointments[\"month\"] = df_appointments[\"appointment_date\"].dt.to_period(\"M\")\n",
    "df_avg_completed_per_month = df_appointments[df_appointments[\"status\"] == \"Completed\"].groupby([\"doctor_id\", \"month\"]).size().reset_index(name=\"completed_count\")\n",
    "df_avg_completed_per_month = df_avg_completed_per_month.groupby(\"doctor_id\")[\"completed_count\"].mean().reset_index()\n",
    "df_avg_completed_per_month.columns = [\"doctor_id\", \"avg_completed_per_month\"]\n",
    "# Display the average completed appointments per month for each doctor\n",
    "df_avg_completed_per_month.head()"
   ]
  },
  {
   "cell_type": "code",
   "execution_count": 21,
   "id": "438799c3",
   "metadata": {},
   "outputs": [
    {
     "data": {
      "application/vnd.microsoft.datawrangler.viewer.v0+json": {
       "columns": [
        {
         "name": "index",
         "rawType": "int64",
         "type": "integer"
        },
        {
         "name": "appointment_id",
         "rawType": "object",
         "type": "string"
        },
        {
         "name": "patient_id",
         "rawType": "object",
         "type": "string"
        },
        {
         "name": "doctor_id",
         "rawType": "object",
         "type": "string"
        },
        {
         "name": "appointment_date",
         "rawType": "datetime64[ns]",
         "type": "datetime"
        },
        {
         "name": "appointment_time",
         "rawType": "object",
         "type": "string"
        },
        {
         "name": "reason_for_visit",
         "rawType": "object",
         "type": "string"
        },
        {
         "name": "status",
         "rawType": "object",
         "type": "string"
        },
        {
         "name": "month",
         "rawType": "period[M]",
         "type": "unknown"
        }
       ],
       "ref": "9d7f6676-6049-41ac-97e2-6ffb3f674c98",
       "rows": [
        [
         "82",
         "A083",
         "P050",
         "D001",
         "2023-11-07 00:00:00",
         "12:30:00",
         "Emergency",
         "Completed",
         "2023-11"
        ],
        [
         "92",
         "A093",
         "P034",
         "D001",
         "2023-04-09 00:00:00",
         "9:30:00",
         "Follow-up",
         "Completed",
         "2023-04"
        ],
        [
         "113",
         "A114",
         "P018",
         "D001",
         "2023-08-08 00:00:00",
         "9:00:00",
         "Therapy",
         "Completed",
         "2023-08"
        ],
        [
         "120",
         "A121",
         "P037",
         "D001",
         "2023-04-07 00:00:00",
         "15:00:00",
         "Checkup",
         "Completed",
         "2023-04"
        ],
        [
         "132",
         "A133",
         "P048",
         "D001",
         "2023-03-23 00:00:00",
         "14:30:00",
         "Checkup",
         "Completed",
         "2023-03"
        ],
        [
         "198",
         "A199",
         "P017",
         "D001",
         "2023-05-01 00:00:00",
         "12:45:00",
         "Follow-up",
         "Completed",
         "2023-05"
        ]
       ],
       "shape": {
        "columns": 8,
        "rows": 6
       }
      },
      "text/html": [
       "<div>\n",
       "<style scoped>\n",
       "    .dataframe tbody tr th:only-of-type {\n",
       "        vertical-align: middle;\n",
       "    }\n",
       "\n",
       "    .dataframe tbody tr th {\n",
       "        vertical-align: top;\n",
       "    }\n",
       "\n",
       "    .dataframe thead th {\n",
       "        text-align: right;\n",
       "    }\n",
       "</style>\n",
       "<table border=\"1\" class=\"dataframe\">\n",
       "  <thead>\n",
       "    <tr style=\"text-align: right;\">\n",
       "      <th></th>\n",
       "      <th>appointment_id</th>\n",
       "      <th>patient_id</th>\n",
       "      <th>doctor_id</th>\n",
       "      <th>appointment_date</th>\n",
       "      <th>appointment_time</th>\n",
       "      <th>reason_for_visit</th>\n",
       "      <th>status</th>\n",
       "      <th>month</th>\n",
       "    </tr>\n",
       "  </thead>\n",
       "  <tbody>\n",
       "    <tr>\n",
       "      <th>82</th>\n",
       "      <td>A083</td>\n",
       "      <td>P050</td>\n",
       "      <td>D001</td>\n",
       "      <td>2023-11-07</td>\n",
       "      <td>12:30:00</td>\n",
       "      <td>Emergency</td>\n",
       "      <td>Completed</td>\n",
       "      <td>2023-11</td>\n",
       "    </tr>\n",
       "    <tr>\n",
       "      <th>92</th>\n",
       "      <td>A093</td>\n",
       "      <td>P034</td>\n",
       "      <td>D001</td>\n",
       "      <td>2023-04-09</td>\n",
       "      <td>9:30:00</td>\n",
       "      <td>Follow-up</td>\n",
       "      <td>Completed</td>\n",
       "      <td>2023-04</td>\n",
       "    </tr>\n",
       "    <tr>\n",
       "      <th>113</th>\n",
       "      <td>A114</td>\n",
       "      <td>P018</td>\n",
       "      <td>D001</td>\n",
       "      <td>2023-08-08</td>\n",
       "      <td>9:00:00</td>\n",
       "      <td>Therapy</td>\n",
       "      <td>Completed</td>\n",
       "      <td>2023-08</td>\n",
       "    </tr>\n",
       "    <tr>\n",
       "      <th>120</th>\n",
       "      <td>A121</td>\n",
       "      <td>P037</td>\n",
       "      <td>D001</td>\n",
       "      <td>2023-04-07</td>\n",
       "      <td>15:00:00</td>\n",
       "      <td>Checkup</td>\n",
       "      <td>Completed</td>\n",
       "      <td>2023-04</td>\n",
       "    </tr>\n",
       "    <tr>\n",
       "      <th>132</th>\n",
       "      <td>A133</td>\n",
       "      <td>P048</td>\n",
       "      <td>D001</td>\n",
       "      <td>2023-03-23</td>\n",
       "      <td>14:30:00</td>\n",
       "      <td>Checkup</td>\n",
       "      <td>Completed</td>\n",
       "      <td>2023-03</td>\n",
       "    </tr>\n",
       "    <tr>\n",
       "      <th>198</th>\n",
       "      <td>A199</td>\n",
       "      <td>P017</td>\n",
       "      <td>D001</td>\n",
       "      <td>2023-05-01</td>\n",
       "      <td>12:45:00</td>\n",
       "      <td>Follow-up</td>\n",
       "      <td>Completed</td>\n",
       "      <td>2023-05</td>\n",
       "    </tr>\n",
       "  </tbody>\n",
       "</table>\n",
       "</div>"
      ],
      "text/plain": [
       "    appointment_id patient_id doctor_id appointment_date appointment_time  \\\n",
       "82            A083       P050      D001       2023-11-07         12:30:00   \n",
       "92            A093       P034      D001       2023-04-09          9:30:00   \n",
       "113           A114       P018      D001       2023-08-08          9:00:00   \n",
       "120           A121       P037      D001       2023-04-07         15:00:00   \n",
       "132           A133       P048      D001       2023-03-23         14:30:00   \n",
       "198           A199       P017      D001       2023-05-01         12:45:00   \n",
       "\n",
       "    reason_for_visit     status    month  \n",
       "82         Emergency  Completed  2023-11  \n",
       "92         Follow-up  Completed  2023-04  \n",
       "113          Therapy  Completed  2023-08  \n",
       "120          Checkup  Completed  2023-04  \n",
       "132          Checkup  Completed  2023-03  \n",
       "198        Follow-up  Completed  2023-05  "
      ]
     },
     "execution_count": 21,
     "metadata": {},
     "output_type": "execute_result"
    }
   ],
   "source": [
    "#get all appointments for doctor D001 and status is \"Completed\"\n",
    "df_doctor_D001 = df_appointments[(df_appointments[\"doctor_id\"] == \"D001\") & (df_appointments[\"status\"] == \"Completed\")]\n",
    "# Display the first few rows of the filtered dataframe\n",
    "df_doctor_D001\n"
   ]
  },
  {
   "cell_type": "code",
   "execution_count": 10,
   "id": "7f051cb8",
   "metadata": {},
   "outputs": [
    {
     "data": {
      "image/png": "[encoded data removed]",
      "text/plain": [
       "<Figure size 1000x600 with 1 Axes>"
      ]
     },
     "metadata": {},
     "output_type": "display_data"
    }
   ],
   "source": [
    "#show avg_completed_per_month in a bar chart\n",
    "#sort df_avg_completed_per_month from highest to lowest\n",
    "#add an average line\n",
    "import matplotlib.pyplot as plt\n",
    "df_avg_completed_per_month = df_avg_completed_per_month.sort_values(by=\"avg_completed_per_month\", ascending=False)\n",
    "plt.figure(figsize=(10, 6))\n",
    "plt.bar(df_avg_completed_per_month[\"doctor_id\"].astype(str), df_avg_completed_per_month[\"avg_completed_per_month\"], color='skyblue')\n",
    "plt.axhline(df_avg_completed_per_month[\"avg_completed_per_month\"].mean(), color='red', linestyle='--', label='Average')\n",
    "plt.xlabel(\"Doctor ID\")\n",
    "plt.ylabel(\"Average Completed Appointments per Month\")\n",
    "plt.title(\"Average Completed Appointments per Month by Doctor\")\n",
    "plt.xticks(rotation=45)\n",
    "plt.legend()\n",
    "plt.tight_layout()\n",
    "plt.show()"
   ]
  },
  {
   "cell_type": "markdown",
   "id": "e5e8ecb2",
   "metadata": {},
   "source": [
    "# THIRD HYPOTHESIS\n",
    "There is a positive correlation between a doctor's years of experience and their efficiency; more experienced doctors will have higher patient throughput and fewer cancelled appointments. "
   ]
  },
  {
   "cell_type": "code",
   "execution_count": 26,
   "id": "349b71bb",
   "metadata": {},
   "outputs": [
    {
     "data": {
      "image/png": "[encoded data removed]",
      "text/plain": [
       "<Figure size 1000x600 with 1 Axes>"
      ]
     },
     "metadata": {},
     "output_type": "display_data"
    }
   ],
   "source": [
    "# create a new df the \"years_experience\" column from the doctors.csv file\n",
    "df_doctors = pd.read_csv(\"doctors.csv\")\n",
    "df_doctors = df_doctors[[\"doctor_id\", \"years_experience\"]]\n",
    "\n",
    "# create a scatter plot of avg_completed_per_month vs years_experience and overlay a trend line\n",
    "\"\"\" plt.figure(figsize=(10, 6))\n",
    "plt.scatter(df_doctors[\"years_experience\"], df_avg_completed_per_month[\"avg_completed_per_month\"], color='blue', label='Data Points')\n",
    "import numpy as np\n",
    "z = np.polyfit(df_doctors[\"years_experience\"],\n",
    "               df_avg_completed_per_month[\"avg_completed_per_month\"], 1)\n",
    "p = np.poly1d(z)\n",
    "plt.plot(df_avg_completed_per_month[\"avg_completed_per_month\"], p(df_avg_completed_per_month[\"avg_completed_per_month\"]), color='red', label='Trend Line')\n",
    "plt.ylabel(\"Average Completed Appointments per Month\")\n",
    "plt.xlabel(\"Years of Experience\")\n",
    "plt.title(\"Average Completed Appointments per Month vs Years of Experience\")\n",
    "plt.legend()\n",
    "plt.grid()\n",
    "plt.tight_layout()\n",
    "plt.show() \"\"\"\n",
    "\n",
    "plt.figure(figsize=(10, 6))\n",
    "plt.scatter(df_doctors[\"years_experience\"],\n",
    "            df_avg_completed_per_month[\"avg_completed_per_month\"], color='blue')\n",
    "plt.ylabel(\"Average Completed Appointments per Month\")\n",
    "plt.xlabel(\"Years of Experience\")\n",
    "plt.title(\"Average Completed Appointments per Month vs Years of Experience\")\n",
    "plt.grid()\n",
    "plt.tight_layout()\n",
    "plt.show()"
   ]
  }
 ],
 "metadata": {
  "kernelspec": {
   "display_name": "base",
   "language": "python",
   "name": "python3"
  },
  "language_info": {
   "codemirror_mode": {
    "name": "ipython",
    "version": 3
   },
   "file_extension": ".py",
   "mimetype": "text/x-python",
   "name": "python",
   "nbconvert_exporter": "python",
   "pygments_lexer": "ipython3",
   "version": "3.12.7"
  }
 },
 "nbformat": 4,
 "nbformat_minor": 5
}
